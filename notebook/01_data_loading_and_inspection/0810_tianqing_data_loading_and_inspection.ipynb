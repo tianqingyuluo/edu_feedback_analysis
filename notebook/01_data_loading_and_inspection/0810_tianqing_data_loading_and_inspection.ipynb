{
 "cells": [
  {
   "metadata": {},
   "cell_type": "markdown",
   "source": "# 1. 加载数据",
   "id": "7559a924e7cdaade"
  },
  {
   "metadata": {},
   "cell_type": "code",
   "source": [
    "from multiprocessing.reduction import duplicate\n",
    "\n",
    "import pandas as pd\n",
    "import numpy as np\n"
   ],
   "id": "initial_id",
   "outputs": [],
   "execution_count": null
  },
  {
   "metadata": {},
   "cell_type": "code",
   "source": [
    "# 加载数据\n",
    "file_path = '../../data/raw/比赛数据.csv'\n",
    "df = pd.read_csv(file_path, encoding='GBK')\n",
    "\n",
    "# 显示数据的基本信息\n",
    "print(\"数据集形状:\", df.shape)\n",
    "print(\"\\n数据集列名:\")\n",
    "print(df.columns.tolist())\n",
    "print(\"\\n数据集前5行:\")\n",
    "display(df.head())"
   ],
   "id": "c049cbb27f86f7b0",
   "outputs": [],
   "execution_count": null
  },
  {
   "metadata": {},
   "cell_type": "code",
   "source": [
    "# 检查数据类型和缺失值\n",
    "print(\"数据类型:\")\n",
    "df_types = df.dtypes.reset_index()\n",
    "df_types.columns = ['列名', '数据类型']\n",
    "print(df_types.to_string(index=False))\n",
    "\n",
    "print(\"\\n缺失值统计:\")\n",
    "missing_values = df.isnull().sum()\n",
    "# 过滤出缺失值大于0的项\n",
    "print(missing_values[missing_values > 0])"
   ],
   "id": "958e3f8cb2e74c7e",
   "outputs": [],
   "execution_count": null
  },
  {
   "metadata": {},
   "cell_type": "markdown",
   "source": [
    "## 2. 数据分析\n",
    "\n",
    "根据初步检查可以看出：\n",
    "1. 有很多列名两两对应，只是一个是文本形式一个是已经数字量化了的形式\n",
    "2. 有些人只填了学院而没有填写专业\n",
    "3. 需要处理缺失值\n",
    "4. 可能存在重复行"
   ],
   "id": "71714a9bd9f377c0"
  },
  {
   "metadata": {},
   "cell_type": "code",
   "source": [
    "# 寻找重复行\n",
    "duplicate_rows = df.duplicated()\n",
    "print(duplicate_rows[duplicate_rows])"
   ],
   "id": "164307b058bb955e",
   "outputs": [],
   "execution_count": null
  },
  {
   "metadata": {},
   "cell_type": "code",
   "source": "# 寻找只填了学院没填专业的看看什么情况",
   "id": "548890a31fcce2b2",
   "outputs": [],
   "execution_count": null
  },
  {
   "metadata": {},
   "cell_type": "code",
   "source": "print(df[df['您目前所在的专业.1'].isnull()]['您目前所在的专业'].value_counts())",
   "id": "891650f94e38228e",
   "outputs": [],
   "execution_count": null
  },
  {
   "metadata": {},
   "cell_type": "markdown",
   "source": "并没有找到重复行。但是发现竟然有一些奇怪的数据。就移交到清洗阶段处理了",
   "id": "4a2d4fd3766be055"
  }
 ],
 "metadata": {
  "kernelspec": {
   "display_name": "Python 3",
   "language": "python",
   "name": "python3"
  },
  "language_info": {
   "codemirror_mode": {
    "name": "ipython",
    "version": 2
   },
   "file_extension": ".py",
   "mimetype": "text/x-python",
   "name": "python",
   "nbconvert_exporter": "python",
   "pygments_lexer": "ipython2",
   "version": "2.7.6"
  }
 },
 "nbformat": 4,
 "nbformat_minor": 5
}
