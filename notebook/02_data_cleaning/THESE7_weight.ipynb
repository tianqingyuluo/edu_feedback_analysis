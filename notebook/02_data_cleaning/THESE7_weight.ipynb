{
 "cells": [
  {
   "cell_type": "code",
   "id": "initial_id",
   "metadata": {
    "collapsed": true,
    "ExecuteTime": {
     "end_time": "2025-08-19T10:37:34.062534Z",
     "start_time": "2025-08-19T10:37:32.977752Z"
    }
   },
   "source": [
    "import pandas as pd\n",
    "import seaborn as sns\n",
    "import matplotlib.pyplot as plt\n",
    "import numpy as np\n",
    "from sklearn.cluster import KMeans\n",
    "from sklearn.preprocessing import StandardScaler\n",
    "from sklearn.metrics import silhouette_score\n",
    "# 设置中文显示\n",
    "plt.rcParams['font.sans-serif'] = ['SimHei']\n",
    "plt.rcParams['axes.unicode_minus'] = False\n",
    "\n",
    "# 读取数据\n",
    "df = pd.read_csv('../../data/intermediate/初步清洗_比赛数据_2.csv', sep=',', engine='python', encoding='utf-8')\n",
    "\n",
    "# 去除制表符\n",
    "df = df.map(lambda x: x.strip('\\t') if isinstance(x, str) else x)\n",
    "\n",
    "# 影响因素\n",
    "factors = [\n",
    "    '课前预学',\n",
    "    '课堂参与',\n",
    "    '课后复习',\n",
    "    '延伸阅读',\n",
    "    '完成作业时间',\n",
    "    '自习时间',\n",
    "    '课外阅读时间',\n",
    "    '网络课程时间',\n",
    "    '实验科研时间',\n",
    "    '社团活动时间',\n",
    "    '竞赛活动时间',\n",
    "    '其他学习时间',\n",
    "    '同学合作',\n",
    "    '参与科研团队',\n",
    "    '参与学科竞赛',\n",
    "    '学习同学方法',\n",
    "    '师生交流频度'\n",
    "]"
   ],
   "outputs": [],
   "execution_count": 17
  },
  {
   "metadata": {
    "ExecuteTime": {
     "end_time": "2025-08-19T10:37:34.491687Z",
     "start_time": "2025-08-19T10:37:34.063538Z"
    }
   },
   "cell_type": "code",
   "source": [
    "# 对每一列进行分组并映射到 4, 3, 2, 1\n",
    "for factor in factors:\n",
    "    if factor in df.columns:\n",
    "        try:\n",
    "            df[factor] = pd.qcut(\n",
    "                df[factor],\n",
    "                q=4,\n",
    "                labels=[4, 3, 2, 1],\n",
    "                duplicates='drop'\n",
    "            )\n",
    "        except ValueError:\n",
    "            # 自动适配标签长度\n",
    "            num_bins = len(pd.qcut(df[factor], q=4, duplicates='drop').unique())\n",
    "            df[factor] = pd.qcut(\n",
    "                df[factor],\n",
    "                q=4,\n",
    "                labels=list(range(num_bins, 0, -1)),\n",
    "                duplicates='drop'\n",
    "            )\n",
    "# 保存新的数据到文件\n",
    "output_path = '../../data/intermediate/初步清洗_比赛数据_3.csv'\n",
    "df.to_csv(output_path, index=False, encoding='utf-8-sig')"
   ],
   "id": "2b35d67d889b4734",
   "outputs": [],
   "execution_count": 18
  }
 ],
 "metadata": {
  "kernelspec": {
   "display_name": "Python 3",
   "language": "python",
   "name": "python3"
  },
  "language_info": {
   "codemirror_mode": {
    "name": "ipython",
    "version": 2
   },
   "file_extension": ".py",
   "mimetype": "text/x-python",
   "name": "python",
   "nbconvert_exporter": "python",
   "pygments_lexer": "ipython2",
   "version": "2.7.6"
  }
 },
 "nbformat": 4,
 "nbformat_minor": 5
}
