{
 "cells": [
  {
   "metadata": {},
   "cell_type": "markdown",
   "source": [
    "# 归一化:\n",
    "  完成作业时间\n",
    "  自习时间\n",
    "  课外阅读时间\n",
    "  网络课程时间\n",
    "  实验室科研时间\n",
    "  社团活动时间\n",
    "  竞赛活动时间\n",
    "  其他学习时间"
   ],
   "id": "a69dbb4f88bda2f1"
  },
  {
   "metadata": {},
   "cell_type": "code",
   "source": [
    "import pandas as pd\n",
    "import matplotlib.pyplot as plt\n",
    "import numpy as np\n",
    "\n",
    "# 设置中文显示\n",
    "plt.rcParams['font.sans-serif'] = ['SimHei']\n",
    "plt.rcParams['axes.unicode_minus'] = False\n",
    "\n",
    "# 读取数据\n",
    "df = pd.read_csv('../../data/intermediate/初步清洗_比赛数据.csv', sep=',', engine='python',encoding='utf-8')\n"
   ],
   "id": "94808e7a112781eb",
   "outputs": [],
   "execution_count": null
  },
  {
   "metadata": {},
   "cell_type": "markdown",
   "source": "对于完成作业时间 取65-80%区间的为最好",
   "id": "d2714e87912002f8"
  },
  {
   "metadata": {},
   "cell_type": "code",
   "source": [
    "# 列名\n",
    "col = '完成作业时间'\n",
    "\n",
    "# 1. 归一化处理\n",
    "time_norm = (df[col] - df[col].min()) / (df[col].max() - df[col].min())\n",
    "\n",
    "# 2. 分位数\n",
    "p65 = time_norm.quantile(0.65)\n",
    "p80 = time_norm.quantile(0.80)\n",
    "\n",
    "# 3. 量化评分\n",
    "def score(val):\n",
    "    if p65 <= val <= p80:\n",
    "        return 1.0\n",
    "    elif val < p65:\n",
    "        return val / p65\n",
    "    else:  # val > p80\n",
    "        return max(0, 1 - (val - p80) / (1 - p80))\n",
    "\n",
    "df[col] = time_norm.apply(score)  # 覆盖原列\n",
    "\n",
    "# 4. 保存回文件\n",
    "print(df.head())\n"
   ],
   "id": "5b6ff9dc75191e98",
   "outputs": [],
   "execution_count": null
  },
  {
   "metadata": {},
   "cell_type": "markdown",
   "source": "社团活动时间进行相同的处理",
   "id": "1ac64d21672272f5"
  },
  {
   "metadata": {},
   "cell_type": "code",
   "source": [
    "# 列名\n",
    "col = '社团活动时间'\n",
    "\n",
    "# 1. 归一化处理\n",
    "time_norm = (df[col] - df[col].min()) / (df[col].max() - df[col].min())\n",
    "\n",
    "# 2. 分位数\n",
    "p65 = time_norm.quantile(0.5)\n",
    "p80 = time_norm.quantile(0.7)\n",
    "\n",
    "# 3. 量化评分\n",
    "def score(val):\n",
    "    if p65 <= val <= p80:\n",
    "        return 1.0\n",
    "    elif val < p65:\n",
    "        return val / p65\n",
    "    else:  # val > p80\n",
    "        return max(0, 1 - (val - p80) / (1 - p80))\n",
    "\n",
    "df[col] = time_norm.apply(score)  # 覆盖原列\n",
    "\n",
    "print(df.head())"
   ],
   "id": "adda4f0b8b8afa35",
   "outputs": [],
   "execution_count": null
  },
  {
   "metadata": {},
   "cell_type": "markdown",
   "source": [
    "自习时间\n",
    "课外阅读时间\n",
    "网络课程时间\n",
    "实验室科研时间\n",
    "竞赛活动时间\n",
    "其他学习时间 越多越好"
   ],
   "id": "da0b18ca546c37af"
  },
  {
   "metadata": {},
   "cell_type": "code",
   "source": [
    "\n",
    "\n",
    "# 列名列表\n",
    "cols = [\n",
    "    '自习时间',\n",
    "    '课外阅读时间',\n",
    "    '网络课程时间',\n",
    "    '实验科研时间',\n",
    "    '竞赛活动时间',\n",
    "    '其他学习时间'\n",
    "]\n",
    "\n",
    "# 处理每一列\n",
    "for col in cols:\n",
    "    # 去除极端值影响（1%~99% 截断）\n",
    "    lower = df[col].quantile(0.01)\n",
    "    upper = df[col].quantile(0.99)\n",
    "    df[col] = df[col].clip(lower, upper)\n",
    "\n",
    "    # 归一化（越多越好）\n",
    "    df[col] = (df[col] - df[col].min()) / (df[col].max() - df[col].min())\n",
    "\n",
    "# 一次性保存新文件\n",
    "df.to_csv('../../data/intermediate/初步清洗_比赛数据_2.csv', index=False, encoding='utf-8-sig')\n",
    "print(\"处理完成，已保存到新文件\")\n"
   ],
   "id": "937c96eae72dfe76",
   "outputs": [],
   "execution_count": null
  }
 ],
 "metadata": {
  "kernelspec": {
   "display_name": "Python 3",
   "language": "python",
   "name": "python3"
  },
  "language_info": {
   "codemirror_mode": {
    "name": "ipython",
    "version": 2
   },
   "file_extension": ".py",
   "mimetype": "text/x-python",
   "name": "python",
   "nbconvert_exporter": "python",
   "pygments_lexer": "ipython2",
   "version": "2.7.6"
  }
 },
 "nbformat": 4,
 "nbformat_minor": 5
}
