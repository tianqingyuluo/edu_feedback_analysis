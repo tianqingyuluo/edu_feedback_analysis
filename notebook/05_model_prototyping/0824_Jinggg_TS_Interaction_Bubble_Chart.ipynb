{
 "cells": [
  {
   "metadata": {},
   "cell_type": "markdown",
   "source": [
    "&nbsp;&nbsp;&nbsp;&nbsp;师生互动关联气泡图 (Teacher-Student Interaction Bubble Chart)  \n",
    "&nbsp;&nbsp;&nbsp;&nbsp;这个图表的目标是直观地展示不同专业（或学院、课程）在“教师投入”和“学生课堂参与”两个维度上的表现，并通过气泡大小反映该群体的学生人数，从而帮助管理者快速识别教学互动中的标杆、问题区域和潜在风险。"
   ],
   "id": "eb037638035bbfe9"
  },
  {
   "cell_type": "code",
   "execution_count": null,
   "id": "e9475f9ab1c6a064",
   "metadata": {
    "collapsed": true
   },
   "outputs": [],
   "source": [
    "import pandas as pd\n",
    "import json\n",
    "import os\n",
    "\n",
    "\n",
    "# 1. 数据清洗\n",
    "def clean_data(df):\n",
    "    required_cols = ['专业', '课堂参与', '教学投入满意度']\n",
    "    df = df[required_cols].dropna()\n",
    "    df = df[(df['课堂参与'] >= 0) & (df['课堂参与'] <= 100) &\n",
    "            (df['教学投入满意度'] >= 0) & (df['教学投入满意度'] <= 100)]\n",
    "    df['专业'] = df['专业'].str.strip()\n",
    "    return df\n"
   ]
  },
  {
   "metadata": {},
   "cell_type": "markdown",
   "source": [
    "&nbsp;&nbsp;&nbsp;&nbsp;由于我们需要探究不同专业 教师投入 与 学生课堂参与 两个维度上的表现，因此需要从原数据集合选择出(专业，课堂参与，教学投入满意度)三列数据。\n",
    "&nbsp;&nbsp;&nbsp;&nbsp;再次对异常数据进行排除处理。\n"
   ],
   "id": "9a4a3e4d9dda675c"
  },
  {
   "metadata": {},
   "cell_type": "code",
   "outputs": [],
   "execution_count": null,
   "source": [
    "\n",
    "# 2. 数据聚合\n",
    "def aggregate_data(df):\n",
    "    grouped = df.groupby('专业').agg({\n",
    "        '课堂参与': 'mean',\n",
    "        '教学投入满意度': 'mean'\n",
    "    }).reset_index()\n",
    "    grouped.columns = ['专业', '平均课堂参与度', '平均教学投入满意度']\n",
    "    return grouped\n"
   ],
   "id": "cc63ba485d172452"
  },
  {
   "metadata": {},
   "cell_type": "markdown",
   "source": [
    "&nbsp;&nbsp;&nbsp;&nbsp;按专业名称对数据进行分组，对每组数据计算 '课堂参与' 和 '教学投入满意度' 的平均值  \n",
    "&nbsp;&nbsp;&nbsp;&nbsp;使用 reset_index() 将分组键('专业')转换为普通列，方便后续处理"
   ],
   "id": "bd74522cca752f41"
  },
  {
   "metadata": {},
   "cell_type": "code",
   "outputs": [],
   "execution_count": null,
   "source": [
    "\n",
    "# 3. 生成JSON\n",
    "def generate_json(df, output_json):\n",
    "    data_dict = {\n",
    "        \"metadata\": {\n",
    "            \"description\": \"师生互动关联数据（按专业聚合）\",\n",
    "            \"生成时间\": pd.Timestamp.now().strftime(\"%Y-%m-%d %H:%M:%S\"),\n",
    "            \"数据维度\": {\n",
    "                \"专业数量\": len(df),\n",
    "                \"平均课堂参与度范围\": [df['平均课堂参与度'].min(), df['平均课堂参与度'].max()],\n",
    "                \"平均教学满意度范围\": [df['平均教学投入满意度'].min(), df['平均教学投入满意度'].max()]\n",
    "            }\n",
    "        },\n",
    "        \"data\": df.to_dict(orient='records')\n",
    "    }\n",
    "    with open(output_json, 'w', encoding='utf-8') as f:\n",
    "        json.dump(data_dict, f, indent=4, ensure_ascii=False)\n"
   ],
   "id": "c2e430d9c7212c3a"
  },
  {
   "metadata": {},
   "cell_type": "markdown",
   "source": "&nbsp;&nbsp;&nbsp;&nbsp;创建包含元数据和实际数据的json数据结构，并且将DataFrame转换为py对象。<br>元数据信息包括：描述，生成时间，数据维度\n",
   "id": "f0e97e87ee20deb5"
  },
  {
   "metadata": {},
   "cell_type": "code",
   "outputs": [],
   "execution_count": null,
   "source": [
    "\n",
    "# 主程序\n",
    "if __name__ == '__main__':\n",
    "    # 输入输出路径\n",
    "    INPUT_FILE = '../../../data/intermediate/初步清洗_比赛数据.csv'\n",
    "    OUTPUT_JSON = '师生互动数据.json'\n",
    "\n",
    "    try:\n",
    "        # 检查路径\n",
    "        if not os.path.exists(INPUT_FILE):\n",
    "            raise FileNotFoundError(f\"输入文件不存在: {INPUT_FILE}\")\n",
    "\n",
    "        # 执行流程\n",
    "        raw_df = pd.read_csv(INPUT_FILE)\n",
    "        clean_df = clean_data(raw_df)\n",
    "\n",
    "        if len(clean_df) == 0:\n",
    "            raise ValueError(\"清洗后没有有效数据\")\n",
    "\n",
    "        aggregated_df = aggregate_data(clean_df)\n",
    "        generate_json(aggregated_df, OUTPUT_JSON)\n",
    "\n",
    "        print(f\"成功生成JSON文件: {OUTPUT_JSON}\")\n",
    "        print(f\"处理数据概览:\")\n",
    "        print(f\"- 专业数量: {len(aggregated_df)}\")\n",
    "        print(\n",
    "            f\"- 数据范围: 参与度 {aggregated_df['平均课堂参与度'].min():.2f}~{aggregated_df['平均课堂参与度'].max():.2f}, \"\n",
    "            f\"满意度 {aggregated_df['平均教学投入满意度'].min():.2f}~{aggregated_df['平均教学投入满意度'].max():.2f}\")\n",
    "\n",
    "    except Exception as e:\n",
    "        print(f\"执行失败: {str(e)}\")\n",
    "        import traceback\n",
    "        traceback.print_exc()\n"
   ],
   "id": "initial_id"
  }
 ],
 "metadata": {
  "kernelspec": {
   "display_name": "Python 3",
   "language": "python",
   "name": "python3"
  },
  "language_info": {
   "codemirror_mode": {
    "name": "ipython",
    "version": 2
   },
   "file_extension": ".py",
   "mimetype": "text/x-python",
   "name": "python",
   "nbconvert_exporter": "python",
   "pygments_lexer": "ipython2",
   "version": "2.7.6"
  }
 },
 "nbformat": 4,
 "nbformat_minor": 5
}
