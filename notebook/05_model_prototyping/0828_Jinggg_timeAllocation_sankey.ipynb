{
 "cells": [
  {
   "metadata": {},
   "cell_type": "markdown",
   "source": "&nbsp;&nbsp;&nbsp;&nbsp;桑基图是一种非常直观的可视化方式，特别适合展示流量、能量或资源的流向和分配。在我们这个场景下，它能清晰地展示一个(专业,年级)的学生平均一周的时间是如何被分配到不同学习活动上的。",
   "id": "7586c8947fcae29b"
  },
  {
   "metadata": {},
   "cell_type": "code",
   "outputs": [],
   "execution_count": null,
   "source": [
    "import pandas as pd\n",
    "import json\n",
    "import os"
   ],
   "id": "3413f89a51903deb"
  },
  {
   "metadata": {},
   "cell_type": "markdown",
   "source": "&nbsp;&nbsp;&nbsp;&nbsp;导入必要的Python库，为数据处理和JSON文件操作提供支持。pandas用于数据处理和分析，json用于JSON格式的序列化和反序列化，os用于操作系统相关的路径操作。",
   "id": "ca5a85f05c71db0"
  },
  {
   "metadata": {},
   "cell_type": "code",
   "outputs": [],
   "execution_count": null,
   "source": [
    "\n",
    "\n",
    "def process_student_time_sankey_to_single_file(csv_file_path, output_filename=\"combined_sankey_data.json\"):\n",
    "    \"\"\"\n",
    "    处理学生时间分配数据，按专业和年级分组生成桑基图数据\n",
    "    并将所有数据合并到同一个JSON文件中（与脚本同一目录）\n",
    "    \"\"\"\n",
    "\n",
    "    # 获取当前脚本所在目录的绝对路径\n",
    "    script_dir = os.path.dirname(os.path.abspath(__file__))\n",
    "\n",
    "    # 构建完整的输出文件路径（与脚本同级）\n",
    "    output_filepath = os.path.join(script_dir, output_filename)"
   ],
   "id": "684f541701343e97"
  },
  {
   "metadata": {},
   "cell_type": "markdown",
   "source": "&nbsp;&nbsp;&nbsp;&nbsp;定义主函数，用于处理学生时间分配数据并生成桑基图所需的JSON数据。<br>&nbsp;&nbsp;&nbsp;&nbsp;函数接受CSV文件路径和输出文件名作为参数，确定输出文件的保存位置，确保生成的JSON文件与Python脚本位于同一目录下。",
   "id": "f885bf6103193c72"
  },
  {
   "metadata": {},
   "cell_type": "code",
   "outputs": [],
   "execution_count": null,
   "source": [
    "\n",
    "    # 读取数据\n",
    "    df = pd.read_csv(csv_file_path)\n",
    "\n",
    "    # 定义时间分配字段映射\n",
    "    time_columns_mapping = {\n",
    "        '完成作业时间': '作业时间',\n",
    "        '自习时间': '自习时间',\n",
    "        '课外阅读时间': '课外阅读',\n",
    "        '网络课程时间': '网络课程',\n",
    "        '实验科研时间': '实验科研',\n",
    "        '社团活动时间': '社团活动',\n",
    "        '竞赛活动时间': '学科竞赛',\n",
    "        '其他学习时间': '其他学习'\n",
    "    }\n",
    "\n",
    "    # 按专业和年级分组\n",
    "    grouped = df.groupby(['专业', '年级'])\n",
    "\n",
    "    # 创建存储所有分组数据的字典\n",
    "    all_sankey_data = {\n",
    "        \"metadata\": {\n",
    "            \"生成时间\": pd.Timestamp.now().strftime(\"%Y-%m-%d %H:%M:%S\"),\n",
    "            \"总分组数\": len(grouped),\n",
    "            \"数据来源\": csv_file_path\n",
    "        },\n",
    "        \"sankey_groups\": {}\n",
    "    }\n",
    "\n",
    "    # 处理每个分组\n",
    "    for (major, grade), group in grouped:\n",
    "        # 计算各时间字段的平均值\n",
    "        time_means = {}\n",
    "        for col_en, col_cn in time_columns_mapping.items():\n",
    "            if col_en in group.columns:\n",
    "                time_means[col_en] = group[col_en].mean()"
   ],
   "id": "20a6b6b19322fd7f"
  },
  {
   "metadata": {},
   "cell_type": "markdown",
   "source": "&nbsp;&nbsp;&nbsp;&nbsp;按\"专业\"和\"年级\"对数据进行分组，为每个分组创建独立的桑基图数据。同时初始化存储所有数据的字典结构，包含元数据和各个分组的数据。<br>&nbsp;&nbsp;&nbsp;&nbsp;遍历每个专业和年级分组，计算各时间分配字段的平均值。这是桑基图数值计算的核心步骤，为每个活动类型生成代表性的时间分配值。",
   "id": "7bd6fc930c78266f"
  },
  {
   "metadata": {},
   "cell_type": "code",
   "outputs": [],
   "execution_count": null,
   "source": [
    "\n",
    "        # 构建桑基图数据结构\n",
    "        nodes = [\n",
    "            {\"name\": \"总学习时间\"},\n",
    "            {\"name\": \"作业时间\"},\n",
    "            {\"name\": \"自习时间\"},\n",
    "            {\"name\": \"课外阅读\"},\n",
    "            {\"name\": \"网络课程\"},\n",
    "            {\"name\": \"实验科研\"},\n",
    "            {\"name\": \"社团活动\"},\n",
    "            {\"name\": \"学科竞赛\"},\n",
    "            {\"name\": \"其他学习\"}\n",
    "        ]\n",
    "\n",
    "        # 构建链接\n",
    "        links = [\n",
    "            {\"source\": 0, \"target\": 1, \"value\": time_means.get('完成作业时间', 0)},\n",
    "            {\"source\": 0, \"target\": 2, \"value\": time_means.get('自习时间', 0)},\n",
    "            {\"source\": 0, \"target\": 3, \"value\": time_means.get('课外阅读时间', 0)},\n",
    "            {\"source\": 0, \"target\": 4, \"value\": time_means.get('网络课程时间', 0)},\n",
    "            {\"source\": 0, \"target\": 5, \"value\": time_means.get('实验科研时间', 0)},\n",
    "            {\"source\": 0, \"target\": 6, \"value\": time_means.get('社团活动时间', 0)},\n",
    "            {\"source\": 0, \"target\": 7, \"value\": time_means.get('竞赛活动时间', 0)},\n",
    "            {\"source\": 0, \"target\": 8, \"value\": time_means.get('其他学习时间', 0)}\n",
    "        ]\n",
    "\n",
    "        # 计算总学习时间\n",
    "        total_time = sum(link['value'] for link in links)"
   ],
   "id": "37486da7943c61d5"
  },
  {
   "metadata": {},
   "cell_type": "markdown",
   "source": [
    "&nbsp;&nbsp;&nbsp;&nbsp;构建桑基图所需的节点(nodes)和链接(links)数据结构。节点代表不同的时间分配类别，链接表示时间流向及其数值，这是桑基图可视化的基础数据格式。<br>\n",
    "&nbsp;&nbsp;&nbsp;&nbsp;而后按专业和年级整合到总体数据结构中"
   ],
   "id": "33d6803a92fb9826"
  },
  {
   "metadata": {},
   "cell_type": "code",
   "outputs": [],
   "execution_count": null,
   "source": [
    "\n",
    "        # 创建分组键名\n",
    "        group_key = f\"{major}_{grade}\"\n",
    "\n",
    "        # 存储分组数据[5](@ref)\n",
    "        all_sankey_data[\"sankey_groups\"][group_key] = {\n",
    "            \"nodes\": nodes,\n",
    "            \"links\": links,\n",
    "            \"metadata\": {\n",
    "                \"专业\": major,\n",
    "                \"年级\": grade,\n",
    "                \"样本数量\": len(group),\n",
    "                \"总学习时间\": total_time,\n",
    "                \"各活动时间明细\": {\n",
    "                    \"作业时间\": time_means.get('完成作业时间', 0),\n",
    "                    \"自习时间\": time_means.get('自习时间', 0),\n",
    "                    \"课外阅读\": time_means.get('课外阅读时间', 0),\n",
    "                    \"网络课程\": time_means.get('网络课程时间', 0),\n",
    "                    \"实验科研\": time_means.get('实验科研时间', 0),\n",
    "                    \"社团活动\": time_means.get('社团活动时间', 0),\n",
    "                    \"学科竞赛\": time_means.get('竞赛活动时间', 0),\n",
    "                    \"其他学习\": time_means.get('其他学习时间', 0)\n",
    "                }\n",
    "            }\n",
    "        }\n",
    "\n",
    "    # 保存到单个JSON文件[7,9](@ref)\n",
    "    with open(output_filepath, 'w', encoding='utf-8') as f:\n",
    "        json.dump(all_sankey_data, f, ensure_ascii=False, indent=2)\n",
    "\n",
    "    return all_sankey_data, output_filepath"
   ],
   "id": "dbc65a0d7e61d930"
  },
  {
   "metadata": {},
   "cell_type": "markdown",
   "source": "代码运行实例",
   "id": "4ccc0eeae813d60b"
  },
  {
   "metadata": {},
   "cell_type": "code",
   "outputs": [],
   "execution_count": null,
   "source": [
    "\n",
    "\n",
    "if __name__ == \"__main__\":\n",
    "    # 配置你的CSV文件路径\n",
    "    csv_path = '../../../data/intermediate/初步清洗_比赛数据.csv'\n",
    "\n",
    "    # 处理数据并生成合并的桑基图JSON\n",
    "    try:\n",
    "        result_data, output_path = process_student_time_sankey_to_single_file(csv_path)\n",
    "\n",
    "        # 打印处理结果摘要\n",
    "        print(\"✅ 桑基图数据已保存到JSON文件！\")\n",
    "        print(f\"文件位置: {output_path}\")\n",
    "        print(f\"总分组数: {result_data['metadata']['总分组数']}\")\n",
    "\n",
    "        print(\"\\n各分组摘要:\")\n",
    "        for group_key, group_data in result_data[\"sankey_groups\"].items():\n",
    "            meta = group_data[\"metadata\"]\n",
    "            print(f\"   - {meta['专业']} {meta['年级']}: \"\n",
    "                  f\"{meta['样本数量']}个样本, \"\n",
    "                  f\"总学习时间: {meta['总学习时间']:.1f}小时/周\")\n",
    "\n",
    "    except Exception as e:\n",
    "        print(f\"❌ 处理过程中出错: {str(e)}\")"
   ],
   "id": "53592a65c94074c8"
  }
 ],
 "metadata": {
  "kernelspec": {
   "display_name": "Python 3",
   "language": "python",
   "name": "python3"
  },
  "language_info": {
   "codemirror_mode": {
    "name": "ipython",
    "version": 2
   },
   "file_extension": ".py",
   "mimetype": "text/x-python",
   "name": "python",
   "nbconvert_exporter": "python",
   "pygments_lexer": "ipython2",
   "version": "2.7.6"
  }
 },
 "nbformat": 4,
 "nbformat_minor": 5
}
