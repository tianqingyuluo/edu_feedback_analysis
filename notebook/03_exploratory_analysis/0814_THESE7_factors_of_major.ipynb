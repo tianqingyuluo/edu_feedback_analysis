{
 "cells": [
  {
   "metadata": {},
   "cell_type": "markdown",
   "source": "学生学习的因数和专业课满意度的关系\n",
   "id": "9e0e306b69bed701"
  },
  {
   "cell_type": "code",
   "id": "initial_id",
   "metadata": {
    "collapsed": true
   },
   "source": [
    "import pandas as pd\n",
    "import matplotlib.pyplot as plt\n",
    "import numpy as np\n",
    "import seaborn as sns\n",
    "\n",
    "# 设置中文显示\n",
    "plt.rcParams['font.sans-serif'] = ['SimHei']\n",
    "plt.rcParams['axes.unicode_minus'] = False\n",
    "\n",
    "# 读取数据\n",
    "df = pd.read_csv('../../data/intermediate/初步清洗_比赛数据_2.csv', sep=',', engine='python', encoding='utf-8')\n",
    "\n",
    "# 去除制表符\n",
    "df = df.map(lambda x: x.strip('\\t') if isinstance(x, str) else x)\n",
    "\n",
    "# 专业课列\n",
    "zy_cols = [\n",
    "    '专业课知识融合',\n",
    "    '专业课解决问题能力',\n",
    "    '专业课交叉融合',\n",
    "    '专业课实践结合',\n",
    "    '专业课努力程度',\n",
    "    '专业课前沿内容'\n",
    "]\n",
    "\n",
    "# 计算专业课平均满意度\n",
    "df['专业课平均满意度'] = df[zy_cols].mean(axis=1)\n",
    "\n",
    "# 影响因素（注意列名与 CSV 一致）\n",
    "factors = [\n",
    "    '课前预学',\n",
    "    '课堂参与',\n",
    "    '课后复习',\n",
    "    '延伸阅读',\n",
    "    '完成作业时间',\n",
    "    '自习时间',\n",
    "    '课外阅读时间',\n",
    "    '网络课程时间',\n",
    "    '实验科研时间',\n",
    "    '社团活动时间',\n",
    "    '竞赛活动时间',\n",
    "    '其他学习时间',   \n",
    "    '同学合作',\n",
    "    '参与科研团队',\n",
    "    '参与学科竞赛',   \n",
    "    '学习同学方法',\n",
    "    '师生交流频度'\n",
    "]\n",
    "\n",
    "# 计算相关系数\n",
    "corr_data = df[factors + ['专业课平均满意度']].corr()\n",
    "\n",
    "# 取影响因素与专业课平均满意度的相关系数\n",
    "corr_factors = corr_data[['专业课平均满意度']].drop('专业课平均满意度')\n",
    "\n",
    "# 根据相关系数排序\n",
    "corr_factors_sorted = corr_factors.sort_values(by='专业课平均满意度', ascending=False)\n",
    "\n",
    "# 画热力图\n",
    "plt.figure(figsize=(6, 10))\n",
    "sns.heatmap(corr_factors_sorted, annot=True, cmap='coolwarm', center=0)\n",
    "plt.title('影响因素与专业课平均满意度的相关系数热力图（排序后）')\n",
    "plt.show()\n"
   ],
   "outputs": [],
   "execution_count": null
  }
 ],
 "metadata": {
  "kernelspec": {
   "display_name": "Python 3",
   "language": "python",
   "name": "python3"
  },
  "language_info": {
   "codemirror_mode": {
    "name": "ipython",
    "version": 2
   },
   "file_extension": ".py",
   "mimetype": "text/x-python",
   "name": "python",
   "nbconvert_exporter": "python",
   "pygments_lexer": "ipython2",
   "version": "2.7.6"
  }
 },
 "nbformat": 4,
 "nbformat_minor": 5
}
